{
  "nbformat": 4,
  "nbformat_minor": 0,
  "metadata": {
    "colab": {
      "provenance": []
    },
    "kernelspec": {
      "name": "python3",
      "display_name": "Python 3"
    },
    "language_info": {
      "name": "python"
    }
  },
  "cells": [
    {
      "cell_type": "code",
      "execution_count": 1,
      "metadata": {
        "colab": {
          "base_uri": "https://localhost:8080/"
        },
        "id": "RihkF3AFosYU",
        "outputId": "913a9f14-77de-4683-8c6f-d21e5e65bc54"
      },
      "outputs": [
        {
          "output_type": "stream",
          "name": "stdout",
          "text": [
            "Mounted at /content/drive\n"
          ]
        }
      ],
      "source": [
        "import os\n",
        "import numpy as np\n",
        "import pandas as pd\n",
        "import matplotlib.pyplot as plt\n",
        "import seaborn as sns\n",
        "from scipy.stats import chi2_contingency\n",
        "from scipy.stats import shapiro\n",
        "import statsmodels.api as sm\n",
        "from statsmodels.formula.api import ols\n",
        "from statsmodels.stats.multicomp import pairwise_tukeyhsd\n",
        "from scipy.stats import pearsonr\n",
        "from statsmodels.formula.api import ols\n",
        "from scipy import stats\n",
        "#from scikit_posthocs import posthoc_dunn\n",
        "from scipy.stats import f_oneway\n",
        "from scipy.stats import kruskal\n",
        "import statsmodels.api as sm\n",
        "import statsmodels.formula.api as smf\n",
        "from statsmodels.stats.multitest import multipletests\n",
        "from statsmodels.formula.api import ols\n",
        "#import shap\n",
        "from google.colab import drive\n",
        "drive.mount('/content/drive')"
      ]
    },
    {
      "cell_type": "code",
      "source": [
        "# change features' names\n",
        "result = pd.read_csv('/content/drive/MyDrive/Stress/SHAP.csv')\n",
        "remove_list = ['doryab_','intraday_','rapids_','phone_','fitbit_']\n",
        "for r in remove_list:\n",
        "    result.columns = [col.replace(r, '') for col in result.columns]"
      ],
      "metadata": {
        "id": "hqVB9OqDoxek"
      },
      "execution_count": 2,
      "outputs": []
    },
    {
      "cell_type": "code",
      "source": [
        "result = result[result['AUC']>0.5]\n",
        "result.shape"
      ],
      "metadata": {
        "colab": {
          "base_uri": "https://localhost:8080/"
        },
        "id": "qsw3V2Smo2MQ",
        "outputId": "c3dda194-f6e9-4fab-a61a-82f5ab5ec472"
      },
      "execution_count": 3,
      "outputs": [
        {
          "output_type": "execute_result",
          "data": {
            "text/plain": [
              "(60, 67)"
            ]
          },
          "metadata": {},
          "execution_count": 3
        }
      ]
    },
    {
      "cell_type": "code",
      "source": [
        "# add sample_size to dataframe\n",
        "data = pd.read_csv('/content/drive/MyDrive/Stress/data.csv')\n",
        "for i, pid_value in enumerate(data.pid.unique()):\n",
        "  if pid_value in result.pid.unique():\n",
        "      pid = data[data.pid == pid_value]\n",
        "      result_pid = result[result.pid == int(pid_value[1:])]\n",
        "      result.loc[i,'sample_size'] = pid.shape[0]\n",
        "      result.loc[i,'label1_size'] = (pid[pid['label']==1].shape[0]/pid.shape[0])*100"
      ],
      "metadata": {
        "id": "XXUp3pRTo5SW"
      },
      "execution_count": 4,
      "outputs": []
    },
    {
      "cell_type": "code",
      "source": [
        "demo = pd.read_csv('/content/drive/MyDrive/Stress/demographics.csv')\n",
        "demo['participantID'] = demo['participantID'].apply(lambda x: 'p' + str(x))\n",
        "demo.columns = demo.columns.str.replace(' ', '_')"
      ],
      "metadata": {
        "id": "0-8Sf8rco7gB"
      },
      "execution_count": 5,
      "outputs": []
    },
    {
      "cell_type": "code",
      "source": [
        "def get_ethnicity(row):\n",
        "    if row['White'] == 1:\n",
        "        return 0\n",
        "    elif row['Asian'] == 1:\n",
        "        return 1\n",
        "    elif row['Other'] == 1:\n",
        "        return 2\n",
        "    else:\n",
        "        return 2  # Handle the case when none of the values are 1\n",
        "\n",
        "demo['Races'] = demo.apply(get_ethnicity, axis=1)\n",
        "demo.drop(['White', 'Asian', 'Other'], axis=1, inplace=True)"
      ],
      "metadata": {
        "id": "iQcYn4v3o-DL"
      },
      "execution_count": 6,
      "outputs": []
    },
    {
      "cell_type": "code",
      "source": [
        "# merge together\n",
        "result.rename(columns = {'pid':'participantID'}, inplace = True)\n",
        "demo = pd.merge(result[['participantID']],demo,on='participantID', how='left')"
      ],
      "metadata": {
        "id": "ylFj9466o_1t"
      },
      "execution_count": 7,
      "outputs": []
    },
    {
      "cell_type": "code",
      "source": [
        "# class size overview\n",
        "data = pd.read_csv('/content/drive/MyDrive/Stress/data.csv')\n",
        "print(data[data['label']==0].shape[0])\n",
        "print(data[data['label']==1].shape[0])"
      ],
      "metadata": {
        "colab": {
          "base_uri": "https://localhost:8080/"
        },
        "id": "PGFuKF3qpCQ0",
        "outputId": "2bd2c627-6b44-47b0-9847-fe289aef9487"
      },
      "execution_count": 8,
      "outputs": [
        {
          "output_type": "stream",
          "name": "stdout",
          "text": [
            "29726\n",
            "1650\n"
          ]
        }
      ]
    },
    {
      "cell_type": "code",
      "source": [
        "# performance for classifying the stress class\n",
        "print(np.mean(result['F1']), np.std(result['F1']))\n",
        "print(np.mean(result['Recall']), np.std(result['Recall']))\n",
        "print(np.mean(result['Precision']), np.std(result['Precision']))\n",
        "print(np.mean(result['AUC']), np.std(result['AUC']))"
      ],
      "metadata": {
        "colab": {
          "base_uri": "https://localhost:8080/"
        },
        "id": "ciFelNCjpDGd",
        "outputId": "24348186-2e5b-483f-c4ab-fe92848b2268"
      },
      "execution_count": 9,
      "outputs": [
        {
          "output_type": "stream",
          "name": "stdout",
          "text": [
            "0.24814701603333333 0.1742959101796607\n",
            "0.20731894894999997 0.16764398491424107\n",
            "0.3348995441666667 0.20181128928891062\n",
            "0.7492140272833333 0.09871127203964522\n"
          ]
        }
      ]
    },
    {
      "cell_type": "code",
      "source": [
        "demos = ['Gender', 'Races','education', 'maritalStatus', 'degree','currentEmployment','mentalHealth',\n",
        "        'Depression', 'Anxiety','eatingDisorder', 'familyProblems','physicalHandicap']\n",
        "full_df = pd.merge(demo, result, how='inner', on='participantID')"
      ],
      "metadata": {
        "id": "Rvgc-L2apO4d"
      },
      "execution_count": 10,
      "outputs": []
    },
    {
      "cell_type": "code",
      "source": [
        "np.mean(full_df[full_df['maritalStatus']==4]['label1_size'])"
      ],
      "metadata": {
        "colab": {
          "base_uri": "https://localhost:8080/"
        },
        "id": "s4KPt7KhpTut",
        "outputId": "e096674f-5bf1-46ac-f450-e17aca9f2a18"
      },
      "execution_count": 11,
      "outputs": [
        {
          "output_type": "execute_result",
          "data": {
            "text/plain": [
              "6.2244824395371365"
            ]
          },
          "metadata": {},
          "execution_count": 11
        }
      ]
    },
    {
      "cell_type": "code",
      "source": [
        "np.mean(full_df[full_df['maritalStatus']==4]['AUC'])"
      ],
      "metadata": {
        "colab": {
          "base_uri": "https://localhost:8080/"
        },
        "id": "4304q18hpWGe",
        "outputId": "11b2e7cb-074c-48d3-aa83-f89531cba683"
      },
      "execution_count": 12,
      "outputs": [
        {
          "output_type": "execute_result",
          "data": {
            "text/plain": [
              "0.7489192829302325"
            ]
          },
          "metadata": {},
          "execution_count": 12
        }
      ]
    },
    {
      "cell_type": "code",
      "source": [
        "base_color = [173/255, 216/255, 230/255,255/255]  # This is light blue"
      ],
      "metadata": {
        "id": "kfMldmZnpY2K"
      },
      "execution_count": 13,
      "outputs": []
    },
    {
      "cell_type": "code",
      "source": [
        "significant_auc_demos = []\n",
        "alpha = 0.05\n",
        "\n",
        "for demo_feature in demos:\n",
        "    print(demo_feature)\n",
        "    df_filtered = full_df[[demo_feature, 'AUC', 'label1_size']]\n",
        "\n",
        "    model = ols('AUC ~ C(' + demo_feature + ') + label1_size', df_filtered).fit()\n",
        "\n",
        "    anova_table = sm.stats.anova_lm(model, typ=2)\n",
        "    print(anova_table)\n",
        "\n",
        "    p_val = anova_table.loc['C(' + demo_feature + ')', 'PR(>F)']\n",
        "    print(f\"ANCOVA result for {demo_feature}: p = {p_val}\")\n",
        "\n",
        "    if p_val < alpha:\n",
        "        print(f\"AUC scores differ significantly across groups in {demo_feature} (p={p_val}).\")\n",
        "        significant_auc_demos.append(demo_feature)\n",
        "\n",
        "\n",
        "max_boxes = max(full_df[demo_feature].nunique() for demo_feature in significant_auc_demos)\n",
        "\n",
        "# Generating a list of shades of blue for all boxes\n",
        "colors = [[max(0, base_color[0]-i*0.2), max(0, base_color[1]-i*0.2), max(0, base_color[2]-i*0.2)] for i in range(max_boxes)]\n",
        "\n",
        "fig, axes = plt.subplots(1, len(significant_auc_demos), figsize=(6, 3))\n",
        "if len(significant_auc_demos) == 1:\n",
        "    axes = [axes]  # To make sure axes is always a list\n",
        "else:\n",
        "    axes = axes.ravel()\n",
        "\n",
        "for idx, demo_feature in enumerate(significant_auc_demos):\n",
        "\n",
        "    df_filtered = full_df[[demo_feature, 'AUC']]\n",
        "\n",
        "    ax = sns.boxplot(x=demo_feature, y='AUC', data=df_filtered, ax=axes[idx], palette=colors)\n",
        "\n",
        "    # You can uncomment the following line if you want titles for each boxplot.\n",
        "    # axes[idx].set_title('Boxplot of AUC scores across ' + demo_feature + ' groups')\n",
        "\n",
        "    # axes[idx].set_xlabel(demo_feature)\n",
        "    if idx == 0:\n",
        "        axes[idx].set_ylabel('AUC scores')\n",
        "    else:\n",
        "        axes[idx].set_ylabel('')\n",
        "\n",
        "plt.tight_layout()\n",
        "plt.savefig('group.pdf')\n",
        "plt.show()"
      ],
      "metadata": {
        "colab": {
          "base_uri": "https://localhost:8080/",
          "height": 1000
        },
        "id": "0jAxUf89pbdN",
        "outputId": "2a3e9b09-27f9-49e6-d375-4dcca1287b01"
      },
      "execution_count": 14,
      "outputs": [
        {
          "output_type": "stream",
          "name": "stdout",
          "text": [
            "Gender\n",
            "               sum_sq    df         F    PR(>F)\n",
            "C(Gender)    0.039850   1.0  4.170310  0.045775\n",
            "label1_size  0.001028   1.0  0.107599  0.744097\n",
            "Residual     0.544677  57.0       NaN       NaN\n",
            "ANCOVA result for Gender: p = 0.04577467115208289\n",
            "AUC scores differ significantly across groups in Gender (p=0.04577467115208289).\n",
            "Races\n",
            "               sum_sq    df         F    PR(>F)\n",
            "C(Races)     0.069880   2.0  3.801919  0.028296\n",
            "label1_size  0.000088   1.0  0.009533  0.922570\n",
            "Residual     0.514648  56.0       NaN       NaN\n",
            "ANCOVA result for Races: p = 0.02829644361201111\n",
            "AUC scores differ significantly across groups in Races (p=0.02829644361201111).\n",
            "education\n",
            "                    sum_sq    df         F    PR(>F)\n",
            "C(education)  8.325883e-03   3.0  0.262593  0.852033\n",
            "label1_size   9.002646e-07   1.0  0.000085  0.992670\n",
            "Residual      5.707165e-01  54.0       NaN       NaN\n",
            "ANCOVA result for education: p = 0.8520331628968669\n",
            "maritalStatus\n",
            "                    sum_sq    df         F    PR(>F)\n",
            "C(maritalStatus)  0.000542   3.0  0.017015  0.996941\n",
            "label1_size       0.000164   1.0  0.015416  0.901639\n",
            "Residual          0.583986  55.0       NaN       NaN\n",
            "ANCOVA result for maritalStatus: p = 0.996940897393252\n",
            "degree\n",
            "               sum_sq    df         F    PR(>F)\n",
            "C(degree)    0.009227   4.0  0.217882  0.927331\n",
            "label1_size  0.000094   1.0  0.008860  0.925363\n",
            "Residual     0.561138  53.0       NaN       NaN\n",
            "ANCOVA result for degree: p = 0.9273306618675217\n",
            "currentEmployment\n",
            "                        sum_sq    df         F    PR(>F)\n",
            "C(currentEmployment)  0.055027   6.0  0.900669  0.501627\n",
            "label1_size           0.002160   1.0  0.212170  0.646993\n",
            "Residual              0.529500  52.0       NaN       NaN\n",
            "ANCOVA result for currentEmployment: p = 0.5016270856353954\n",
            "mentalHealth\n",
            "                   sum_sq    df         F    PR(>F)\n",
            "C(mentalHealth)  0.005670   2.0  0.274249  0.761158\n",
            "label1_size      0.000018   1.0  0.001759  0.966692\n",
            "Residual         0.578858  56.0       NaN       NaN\n",
            "ANCOVA result for mentalHealth: p = 0.7611577929352922\n",
            "Depression\n",
            "                 sum_sq    df         F    PR(>F)\n",
            "C(Depression)  0.002205   1.0  0.215862  0.643981\n",
            "label1_size    0.000446   1.0  0.043610  0.835325\n",
            "Residual       0.582323  57.0       NaN       NaN\n",
            "ANCOVA result for Depression: p = 0.6439809324287693\n",
            "Anxiety\n",
            "               sum_sq    df         F    PR(>F)\n",
            "C(Anxiety)   0.013866   1.0  1.384947  0.244151\n",
            "label1_size  0.000113   1.0  0.011321  0.915637\n",
            "Residual     0.570662  57.0       NaN       NaN\n",
            "ANCOVA result for Anxiety: p = 0.2441514681858931\n",
            "eatingDisorder\n",
            "                     sum_sq    df         F    PR(>F)\n",
            "C(eatingDisorder)  0.016156   1.0  1.620229  0.208227\n",
            "label1_size        0.000771   1.0  0.077300  0.781996\n",
            "Residual           0.568372  57.0       NaN       NaN\n",
            "ANCOVA result for eatingDisorder: p = 0.2082271610082089\n",
            "familyProblems\n",
            "                     sum_sq    df         F    PR(>F)\n",
            "C(familyProblems)  0.017001   1.0  1.707493  0.196559\n",
            "label1_size        0.000123   1.0  0.012371  0.911829\n",
            "Residual           0.567527  57.0       NaN       NaN\n",
            "ANCOVA result for familyProblems: p = 0.19655861973017885\n",
            "physicalHandicap\n",
            "                       sum_sq    df         F    PR(>F)\n",
            "C(physicalHandicap)  0.022157   1.0  2.212118  0.142540\n",
            "label1_size          0.001207   1.0  0.120530  0.729761\n",
            "Residual             0.560902  56.0       NaN       NaN\n",
            "ANCOVA result for physicalHandicap: p = 0.1425399445508852\n"
          ]
        },
        {
          "output_type": "display_data",
          "data": {
            "text/plain": [
              "<Figure size 600x300 with 2 Axes>"
            ],
            "image/png": "[encoded data removed]"
          },
          "metadata": {}
        }
      ]
    }
  ]
}